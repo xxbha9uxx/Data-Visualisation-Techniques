{
 "cells": [
  {
   "cell_type": "markdown",
   "id": "ef0a7897-0704-41fc-b37b-d2fe9f3d2cfe",
   "metadata": {},
   "source": [
    "**NUMPY TUTORIAL**"
   ]
  },
  {
   "cell_type": "code",
   "execution_count": 1,
   "id": "d0f7df9a-3472-4905-a718-9ad4effd8550",
   "metadata": {},
   "outputs": [],
   "source": [
    "import numpy as np"
   ]
  },
  {
   "cell_type": "markdown",
   "id": "ec26ef7c-c8cc-41e9-98fe-51d115949cb0",
   "metadata": {},
   "source": [
    "**Creating an numpy array**"
   ]
  },
  {
   "cell_type": "code",
   "execution_count": 2,
   "id": "1cf605f6-3455-4a46-ab4f-708183367a1a",
   "metadata": {},
   "outputs": [
    {
     "name": "stdout",
     "output_type": "stream",
     "text": [
      "[1 2 3 4 5]\n"
     ]
    }
   ],
   "source": [
    "list_py = [1,2,3,4,5]\n",
    "array = np.array(list_py)\n",
    "print(array)"
   ]
  },
  {
   "cell_type": "code",
   "execution_count": 3,
   "id": "900707fd-ee21-42bd-a787-31fd021c7049",
   "metadata": {},
   "outputs": [
    {
     "name": "stdout",
     "output_type": "stream",
     "text": [
      "[1 2 3 4 5]\n"
     ]
    }
   ],
   "source": [
    "array = np.array([1,2,3,4,5])\n",
    "print(array)"
   ]
  },
  {
   "cell_type": "markdown",
   "id": "e88ff4db-407d-4770-a71a-22a2e9eee9e7",
   "metadata": {},
   "source": [
    "**Arithmetic operation on list** "
   ]
  },
  {
   "cell_type": "code",
   "execution_count": 4,
   "id": "71ec16ea-8aa0-4649-a73f-56d5084a7865",
   "metadata": {},
   "outputs": [
    {
     "name": "stdout",
     "output_type": "stream",
     "text": [
      "[20, 30, 40]\n",
      "[50, 60, 70]\n",
      "[20, 30, 40, 50, 60, 70]\n"
     ]
    }
   ],
   "source": [
    "\n",
    "l1=[20,30,40]\n",
    "l2=[50,60,70]\n",
    "\n",
    "print(l1)\n",
    "print(l2)\n",
    "print(l1+l2)\n"
   ]
  },
  {
   "cell_type": "markdown",
   "id": "75afc151-c1a5-4ad4-acbe-04bcce968120",
   "metadata": {},
   "source": [
    "**Arithmetic operation on numpy array**"
   ]
  },
  {
   "cell_type": "code",
   "execution_count": 5,
   "id": "fb8a1499-798f-4632-bf0c-a9b4434b8bd3",
   "metadata": {},
   "outputs": [
    {
     "name": "stdout",
     "output_type": "stream",
     "text": [
      "[20 30 40]\n",
      "[50 60 70]\n",
      "[ 70  90 110]\n"
     ]
    }
   ],
   "source": [
    "a = np.array([20,30,40])\n",
    "b = np.array([50,60,70])\n",
    "\n",
    "print(a)\n",
    "print(b)\n",
    "print(a+b)\n"
   ]
  },
  {
   "cell_type": "markdown",
   "id": "41567017-b101-4498-aaac-30a90920ebb1",
   "metadata": {},
   "source": [
    "**Creating 2D array**"
   ]
  },
  {
   "cell_type": "code",
   "execution_count": 6,
   "id": "7e055276-9069-42a5-8656-08e1dfa20f41",
   "metadata": {},
   "outputs": [
    {
     "data": {
      "text/plain": [
       "array([[20, 30, 40],\n",
       "       [50, 60, 70]])"
      ]
     },
     "execution_count": 6,
     "metadata": {},
     "output_type": "execute_result"
    }
   ],
   "source": [
    "c = np.array([[20,30,40],[50,60,70]])\n",
    "c"
   ]
  },
  {
   "cell_type": "code",
   "execution_count": 7,
   "id": "29b7064c-9266-4ca2-8d2d-ce7a34570a24",
   "metadata": {},
   "outputs": [
    {
     "ename": "ValueError",
     "evalue": "setting an array element with a sequence. The requested array has an inhomogeneous shape after 1 dimensions. The detected shape was (2,) + inhomogeneous part.",
     "output_type": "error",
     "traceback": [
      "\u001b[1;31m---------------------------------------------------------------------------\u001b[0m",
      "\u001b[1;31mValueError\u001b[0m                                Traceback (most recent call last)",
      "Cell \u001b[1;32mIn[7], line 3\u001b[0m\n\u001b[0;32m      1\u001b[0m \u001b[38;5;66;03m#Common error in creating 2D array\u001b[39;00m\n\u001b[1;32m----> 3\u001b[0m c \u001b[38;5;241m=\u001b[39m \u001b[43mnp\u001b[49m\u001b[38;5;241;43m.\u001b[39;49m\u001b[43marray\u001b[49m\u001b[43m(\u001b[49m\u001b[43m[\u001b[49m\u001b[43m[\u001b[49m\u001b[38;5;241;43m20\u001b[39;49m\u001b[43m,\u001b[49m\u001b[38;5;241;43m30\u001b[39;49m\u001b[43m]\u001b[49m\u001b[43m,\u001b[49m\u001b[43m[\u001b[49m\u001b[38;5;241;43m50\u001b[39;49m\u001b[43m,\u001b[49m\u001b[38;5;241;43m60\u001b[39;49m\u001b[43m,\u001b[49m\u001b[38;5;241;43m70\u001b[39;49m\u001b[43m]\u001b[49m\u001b[43m]\u001b[49m\u001b[43m)\u001b[49m\n\u001b[0;32m      4\u001b[0m c\n",
      "\u001b[1;31mValueError\u001b[0m: setting an array element with a sequence. The requested array has an inhomogeneous shape after 1 dimensions. The detected shape was (2,) + inhomogeneous part."
     ]
    }
   ],
   "source": [
    "#Common error in creating 2D array\n",
    "\n",
    "c = np.array([[20,30],[50,60,70]])\n",
    "c"
   ]
  },
  {
   "cell_type": "code",
   "execution_count": 8,
   "id": "2e7a9fcf-40ca-4e92-be3a-be7eddc2c107",
   "metadata": {},
   "outputs": [
    {
     "name": "stdout",
     "output_type": "stream",
     "text": [
      "<class 'numpy.ndarray'>\n"
     ]
    }
   ],
   "source": [
    "print(type(a))"
   ]
  },
  {
   "cell_type": "markdown",
   "id": "84dcf449-2bb2-4a15-8448-2f7032e15a39",
   "metadata": {},
   "source": [
    "**Slicing**"
   ]
  },
  {
   "cell_type": "code",
   "execution_count": 9,
   "id": "10a3d35d-e911-442c-8ad7-998150c44202",
   "metadata": {},
   "outputs": [
    {
     "data": {
      "text/plain": [
       "array([10, 20, 30, 40, 50, 60, 70, 80])"
      ]
     },
     "execution_count": 9,
     "metadata": {},
     "output_type": "execute_result"
    }
   ],
   "source": [
    "arr = np.array([10,20,30,40,50,60,70,80])\n",
    "\n",
    "arr"
   ]
  },
  {
   "cell_type": "code",
   "execution_count": 10,
   "id": "9e879174-7de2-4448-8ade-7daa175ed06b",
   "metadata": {},
   "outputs": [
    {
     "data": {
      "text/plain": [
       "30"
      ]
     },
     "execution_count": 10,
     "metadata": {},
     "output_type": "execute_result"
    }
   ],
   "source": [
    "arr[2]"
   ]
  },
  {
   "cell_type": "code",
   "execution_count": 11,
   "id": "2372d706-aea4-4ff2-bc96-a45d1b799f04",
   "metadata": {},
   "outputs": [
    {
     "data": {
      "text/plain": [
       "array([30, 40, 50])"
      ]
     },
     "execution_count": 11,
     "metadata": {},
     "output_type": "execute_result"
    }
   ],
   "source": [
    "arr[2:5]"
   ]
  },
  {
   "cell_type": "code",
   "execution_count": 12,
   "id": "10ee1ae7-04a2-4e50-81eb-13a51dcdded9",
   "metadata": {},
   "outputs": [
    {
     "data": {
      "text/plain": [
       "array([40, 50, 60, 70, 80])"
      ]
     },
     "execution_count": 12,
     "metadata": {},
     "output_type": "execute_result"
    }
   ],
   "source": [
    "arr[3:]"
   ]
  },
  {
   "cell_type": "code",
   "execution_count": 13,
   "id": "ef3df768-f37f-4ff9-8b17-5f4676af9c0c",
   "metadata": {},
   "outputs": [
    {
     "data": {
      "text/plain": [
       "array([10, 20, 30, 40, 50])"
      ]
     },
     "execution_count": 13,
     "metadata": {},
     "output_type": "execute_result"
    }
   ],
   "source": [
    "arr[:5]"
   ]
  },
  {
   "cell_type": "code",
   "execution_count": 14,
   "id": "da878519-23a2-4440-bd8b-65ff5179abaa",
   "metadata": {},
   "outputs": [
    {
     "data": {
      "text/plain": [
       "array([[10, 20],\n",
       "       [50, 60]])"
      ]
     },
     "execution_count": 14,
     "metadata": {},
     "output_type": "execute_result"
    }
   ],
   "source": [
    "arr = np.array([[10,20,30,40],[50,60,70,80]])\n",
    "\n",
    "arr[0:2,0:2]"
   ]
  },
  {
   "cell_type": "code",
   "execution_count": 15,
   "id": "3ba97406-6cdb-4605-9b8b-fbc07a24cba3",
   "metadata": {},
   "outputs": [
    {
     "data": {
      "text/plain": [
       "array([[10, 20, 30],\n",
       "       [50, 60, 70]])"
      ]
     },
     "execution_count": 15,
     "metadata": {},
     "output_type": "execute_result"
    }
   ],
   "source": [
    "arr[0:2,0:3]"
   ]
  },
  {
   "cell_type": "code",
   "execution_count": 16,
   "id": "37b998ec-2ff5-48f2-ac0f-59ce5d1221d8",
   "metadata": {},
   "outputs": [
    {
     "data": {
      "text/plain": [
       "array([20, 30])"
      ]
     },
     "execution_count": 16,
     "metadata": {},
     "output_type": "execute_result"
    }
   ],
   "source": [
    "arr[0,1:3]"
   ]
  },
  {
   "cell_type": "code",
   "execution_count": 17,
   "id": "fed25c7a-dbd2-4b1f-878c-2348d0f8eed8",
   "metadata": {},
   "outputs": [
    {
     "data": {
      "text/plain": [
       "array([50, 60])"
      ]
     },
     "execution_count": 17,
     "metadata": {},
     "output_type": "execute_result"
    }
   ],
   "source": [
    "arr[1,0:2]"
   ]
  },
  {
   "cell_type": "code",
   "execution_count": 18,
   "id": "9c5008e8-364a-4d74-9a3a-230b7ac06474",
   "metadata": {},
   "outputs": [
    {
     "data": {
      "text/plain": [
       "10"
      ]
     },
     "execution_count": 18,
     "metadata": {},
     "output_type": "execute_result"
    }
   ],
   "source": [
    "arr[0,0]"
   ]
  },
  {
   "cell_type": "code",
   "execution_count": 19,
   "id": "5f88168d-9d03-4a7f-9b0d-069c1ae98120",
   "metadata": {},
   "outputs": [
    {
     "data": {
      "text/plain": [
       "80"
      ]
     },
     "execution_count": 19,
     "metadata": {},
     "output_type": "execute_result"
    }
   ],
   "source": [
    "arr[1,3]"
   ]
  },
  {
   "cell_type": "markdown",
   "id": "9ee40b2f-15d3-412d-9b34-d9fcadc54e31",
   "metadata": {},
   "source": [
    "**Attributes of Array**"
   ]
  },
  {
   "cell_type": "code",
   "execution_count": 20,
   "id": "11060052-6c12-46d6-be1a-d513c77e2128",
   "metadata": {},
   "outputs": [
    {
     "data": {
      "text/plain": [
       "array([[10, 20, 30, 40],\n",
       "       [50, 60, 70, 80]])"
      ]
     },
     "execution_count": 20,
     "metadata": {},
     "output_type": "execute_result"
    }
   ],
   "source": [
    "arr = np.array([[10,20,30,40],[50,60,70,80]])\n",
    "arr"
   ]
  },
  {
   "cell_type": "code",
   "execution_count": 21,
   "id": "ac5c6afe-467d-4519-bbf8-06e93a0dddd4",
   "metadata": {},
   "outputs": [
    {
     "data": {
      "text/plain": [
       "(2, 4)"
      ]
     },
     "execution_count": 21,
     "metadata": {},
     "output_type": "execute_result"
    }
   ],
   "source": [
    "np.shape(arr)  # rows,columns"
   ]
  },
  {
   "cell_type": "code",
   "execution_count": 22,
   "id": "cdc6c95a-0a32-4250-99e4-608b48dd369d",
   "metadata": {},
   "outputs": [
    {
     "data": {
      "text/plain": [
       "8"
      ]
     },
     "execution_count": 22,
     "metadata": {},
     "output_type": "execute_result"
    }
   ],
   "source": [
    "np.size(arr)   #number of elements"
   ]
  },
  {
   "cell_type": "code",
   "execution_count": 23,
   "id": "ace5658e-f229-4da4-8123-803a58270fe2",
   "metadata": {},
   "outputs": [
    {
     "data": {
      "text/plain": [
       "2"
      ]
     },
     "execution_count": 23,
     "metadata": {},
     "output_type": "execute_result"
    }
   ],
   "source": [
    "np.ndim(arr)    #number of dimensions"
   ]
  },
  {
   "cell_type": "code",
   "execution_count": 24,
   "id": "6169a59a-fb93-4246-bb6f-5f487818bbe1",
   "metadata": {},
   "outputs": [
    {
     "data": {
      "text/plain": [
       "dtype('int32')"
      ]
     },
     "execution_count": 24,
     "metadata": {},
     "output_type": "execute_result"
    }
   ],
   "source": [
    "arr.dtype       #datatype of array"
   ]
  },
  {
   "cell_type": "markdown",
   "id": "15cf7916-383b-492a-9998-57a2e6f36a74",
   "metadata": {},
   "source": [
    "**Functions**"
   ]
  },
  {
   "cell_type": "code",
   "execution_count": 25,
   "id": "c49361bc-10ca-4bd8-8cb9-c0759873a140",
   "metadata": {},
   "outputs": [],
   "source": [
    "a = [30,40,20,40,30]\n",
    "arr = np.array(a)"
   ]
  },
  {
   "cell_type": "code",
   "execution_count": 26,
   "id": "18bc6df6-0c75-474e-9c6b-ae05c6633a89",
   "metadata": {},
   "outputs": [
    {
     "data": {
      "text/plain": [
       "dtype('int32')"
      ]
     },
     "execution_count": 26,
     "metadata": {},
     "output_type": "execute_result"
    }
   ],
   "source": [
    "arr.dtype              #datatype of array"
   ]
  },
  {
   "cell_type": "code",
   "execution_count": 27,
   "id": "47bf3be2-41d9-454b-9f8a-ae265a685761",
   "metadata": {},
   "outputs": [
    {
     "data": {
      "text/plain": [
       "numpy.ndarray"
      ]
     },
     "execution_count": 27,
     "metadata": {},
     "output_type": "execute_result"
    }
   ],
   "source": [
    "    \n",
    "type(arr)                     #datatype of variable       "
   ]
  },
  {
   "cell_type": "code",
   "execution_count": 28,
   "id": "ef9b9eb5-a320-410e-b64d-57ba6883dfa5",
   "metadata": {},
   "outputs": [
    {
     "data": {
      "text/plain": [
       "array([30., 40., 20., 40., 30.])"
      ]
     },
     "execution_count": 28,
     "metadata": {},
     "output_type": "execute_result"
    }
   ],
   "source": [
    "arr.astype(float)    "
   ]
  },
  {
   "cell_type": "code",
   "execution_count": 29,
   "id": "2e45c84a-876c-4b99-82b6-e518f1c02fa6",
   "metadata": {},
   "outputs": [
    {
     "name": "stdout",
     "output_type": "stream",
     "text": [
      "['30' '40' '20' '40' '30']\n"
     ]
    }
   ],
   "source": [
    "print(arr.astype(str))    #conversion of datatype"
   ]
  },
  {
   "cell_type": "code",
   "execution_count": 30,
   "id": "818d4062-eb0e-4e48-bee6-7aabaea119ab",
   "metadata": {},
   "outputs": [
    {
     "name": "stdout",
     "output_type": "stream",
     "text": [
      "[30.8]\n",
      "[30]\n"
     ]
    }
   ],
   "source": [
    "a =[30.8]\n",
    "arr =np.array(a)\n",
    "print(arr)\n",
    "print(arr.astype(int))"
   ]
  },
  {
   "cell_type": "markdown",
   "id": "674fb7b8-2b87-4e66-a79e-f6f57c731d7b",
   "metadata": {},
   "source": [
    "**Mathematical Operations On Array**"
   ]
  },
  {
   "cell_type": "code",
   "execution_count": 31,
   "id": "bd08d4d0-6fa0-4d05-9e8a-9da9c9c7f203",
   "metadata": {},
   "outputs": [
    {
     "name": "stdout",
     "output_type": "stream",
     "text": [
      "[60 60 70 40 30]\n",
      "[60 60 70 40 30]\n"
     ]
    }
   ],
   "source": [
    "arr1 = np.array([30,40,60,20,10])\n",
    "arr2 = np.array([30,20,10,20,20])\n",
    "\n",
    "print(arr1 + arr2)                      #First way\n",
    "\n",
    "print(np.add(arr1,arr2))                #Second way"
   ]
  },
  {
   "cell_type": "code",
   "execution_count": 39,
   "id": "c1891e60-1fb0-4868-9957-d112948ea353",
   "metadata": {},
   "outputs": [
    {
     "name": "stdout",
     "output_type": "stream",
     "text": [
      "[[60 60]\n",
      " [30 30]]\n",
      "[[60 60]\n",
      " [30 30]]\n"
     ]
    }
   ],
   "source": [
    "arr_1 = np.array([[30,40],[20,10]])\n",
    "arr_2 = np.array([[30,20],[10,20]])\n",
    "\n",
    "print(arr_1 + arr_2)  #first way\n",
    "\n",
    "print(np.add(arr_1,arr_2))  #second way\n"
   ]
  },
  {
   "cell_type": "code",
   "execution_count": 40,
   "id": "b8c2d485-b362-4a51-8830-e2fedd9fa6f3",
   "metadata": {},
   "outputs": [
    {
     "name": "stdout",
     "output_type": "stream",
     "text": [
      "[[  0  20]\n",
      " [ 10 -10]]\n",
      "[[  0  20]\n",
      " [ 10 -10]]\n"
     ]
    }
   ],
   "source": [
    "arr_1 = np.array([[30,40],[20,10]])\n",
    "arr_2 = np.array([[30,20],[10,20]])\n",
    "\n",
    "print(arr_1 - arr_2)  #first way\n",
    "\n",
    "print(np.subtract(arr_1,arr_2))  #second way\n"
   ]
  },
  {
   "cell_type": "code",
   "execution_count": 41,
   "id": "0c941c8c-495f-4b07-8513-4f2c580e623f",
   "metadata": {},
   "outputs": [
    {
     "name": "stdout",
     "output_type": "stream",
     "text": [
      "[[900 800]\n",
      " [200 200]]\n",
      "[[900 800]\n",
      " [200 200]]\n"
     ]
    }
   ],
   "source": [
    "arr_1 = np.array([[30,40],[20,10]])\n",
    "arr_2 = np.array([[30,20],[10,20]])\n",
    "\n",
    "print(arr_1 * arr_2)  #first way\n",
    "\n",
    "print(np.multiply(arr_1,arr_2))  #second way\n"
   ]
  },
  {
   "cell_type": "code",
   "execution_count": 42,
   "id": "13c0457d-5b77-4a03-91a1-72751adb93ab",
   "metadata": {},
   "outputs": [
    {
     "name": "stdout",
     "output_type": "stream",
     "text": [
      "[[1.  2. ]\n",
      " [2.  0.5]]\n",
      "[[1.  2. ]\n",
      " [2.  0.5]]\n"
     ]
    }
   ],
   "source": [
    "arr_1 = np.array([[30,40],[20,10]])\n",
    "arr_2 = np.array([[30,20],[10,20]])\n",
    "\n",
    "print(arr_1 / arr_2)  #first way\n",
    "\n",
    "print(np.divide(arr_1,arr_2))  #second way\n"
   ]
  },
  {
   "cell_type": "code",
   "execution_count": 44,
   "id": "e958267a-a14b-4826-bf1c-6b5054ed86b3",
   "metadata": {},
   "outputs": [
    {
     "name": "stdout",
     "output_type": "stream",
     "text": [
      "[[27 64]\n",
      " [ 8  1]]\n",
      "[[27 64]\n",
      " [ 8  1]]\n"
     ]
    }
   ],
   "source": [
    "arr_1 = np.array([[3,4],[2,1]])\n",
    "arr_2 = np.array([3])\n",
    "\n",
    "print(arr_1 ** arr_2)  #first way\n",
    "\n",
    "print(np.power(arr_1,arr_2))  #second way\n"
   ]
  },
  {
   "cell_type": "code",
   "execution_count": 50,
   "id": "a36aca23-7fe7-4dac-b178-1f4b2f220058",
   "metadata": {},
   "outputs": [
    {
     "name": "stdout",
     "output_type": "stream",
     "text": [
      "[3. 4. 2. 1.]\n"
     ]
    }
   ],
   "source": [
    "arr_1 = np.array([9,16,4,1])\n",
    "\n",
    "print(np.sqrt(arr_1))\n"
   ]
  },
  {
   "cell_type": "markdown",
   "id": "73884373-b9e0-4ed7-af02-48fc1af15a65",
   "metadata": {},
   "source": [
    "**Concatenation**"
   ]
  },
  {
   "cell_type": "code",
   "execution_count": 53,
   "id": "bbe2f239-b3bc-425c-beba-4207ff9dfc1d",
   "metadata": {},
   "outputs": [
    {
     "name": "stdout",
     "output_type": "stream",
     "text": [
      "[20, 30, 40]\n",
      "[5, 6, 7]\n",
      "[20, 30, 40, 5, 6, 7]\n"
     ]
    }
   ],
   "source": [
    "#Concatenation in python\n",
    "l1=[20,30,40]\n",
    "l2=[5,6,7]\n",
    "\n",
    "print(l1)\n",
    "print(l2)\n",
    "print(l1+l2)"
   ]
  },
  {
   "cell_type": "code",
   "execution_count": 54,
   "id": "c5bb956e-53da-4ecd-affd-a6359cd1397b",
   "metadata": {},
   "outputs": [
    {
     "name": "stdout",
     "output_type": "stream",
     "text": [
      "[20 30 40]\n",
      "[5 6 7]\n",
      "[25 36 47]\n"
     ]
    }
   ],
   "source": [
    "#Addition in numpy array\n",
    "a = np.array([20,30,40])\n",
    "b = np.array([5,6,7])\n",
    "\n",
    "print(a)\n",
    "print(b)\n",
    "print(a+b)"
   ]
  },
  {
   "cell_type": "code",
   "execution_count": 56,
   "id": "2b4ebd99-7428-4d40-8b6d-6cf3ea7c0f4f",
   "metadata": {},
   "outputs": [
    {
     "name": "stdout",
     "output_type": "stream",
     "text": [
      "[20 30 40  5  6  7]\n"
     ]
    }
   ],
   "source": [
    "#Concatenation in numpy\n",
    "\n",
    "print(np.concatenate([a,b]))\n"
   ]
  },
  {
   "cell_type": "code",
   "execution_count": 66,
   "id": "1bff2667-e69b-486f-b10b-ffc09c6b01d2",
   "metadata": {},
   "outputs": [
    {
     "name": "stdout",
     "output_type": "stream",
     "text": [
      "[[30 40]\n",
      " [50 10]\n",
      " [ 5  5]\n",
      " [ 3  3]]\n"
     ]
    }
   ],
   "source": [
    "a = np.array([[30,40],[50,10]])\n",
    "b = np.array([[5,5],[3,3]])\n",
    "\n",
    "print(np.concatenate([a,b]))"
   ]
  },
  {
   "cell_type": "code",
   "execution_count": 67,
   "id": "5cf0f985-0e3b-48ee-b33c-c425ff363024",
   "metadata": {},
   "outputs": [
    {
     "name": "stdout",
     "output_type": "stream",
     "text": [
      "[[30 40]\n",
      " [50 10]\n",
      " [ 5  5]\n",
      " [ 3  3]]\n"
     ]
    }
   ],
   "source": [
    "print(np.concatenate([a,b], axis = 0))"
   ]
  },
  {
   "cell_type": "code",
   "execution_count": 71,
   "id": "234e569f-acf6-4758-935f-d6423eedd1af",
   "metadata": {},
   "outputs": [
    {
     "name": "stdout",
     "output_type": "stream",
     "text": [
      "[[30 40  5  5]\n",
      " [50 10  3  3]]\n"
     ]
    }
   ],
   "source": [
    "print(np.concatenate([a,b], axis = 1))"
   ]
  },
  {
   "cell_type": "code",
   "execution_count": 72,
   "id": "a85fd479-2e9a-4465-8c76-0c1c47213dd7",
   "metadata": {},
   "outputs": [
    {
     "name": "stdout",
     "output_type": "stream",
     "text": [
      "[[30 40]\n",
      " [50 10]\n",
      " [ 5  5]\n",
      " [ 3  3]]\n"
     ]
    }
   ],
   "source": [
    "print(np.vstack([a,b]))       #VERTICAL CONCATENATION"
   ]
  },
  {
   "cell_type": "code",
   "execution_count": 70,
   "id": "1a76fba1",
   "metadata": {},
   "outputs": [
    {
     "name": "stdout",
     "output_type": "stream",
     "text": [
      "[[30 40  5  5]\n",
      " [50 10  3  3]]\n"
     ]
    }
   ],
   "source": [
    "print(np.hstack([a,b]))     #HORIZONTAL  CONCATENATION"
   ]
  },
  {
   "cell_type": "markdown",
   "id": "6ab53ead-82d8-48fc-b442-fb0a065cdcbc",
   "metadata": {},
   "source": [
    "**SPLITTING OF THE ARRAY**"
   ]
  },
  {
   "cell_type": "code",
   "execution_count": 84,
   "id": "63495890-36e2-4506-86d6-636c652c5080",
   "metadata": {},
   "outputs": [
    {
     "name": "stdout",
     "output_type": "stream",
     "text": [
      "[array([20, 40, 30]), array([40, 10, 20])]\n",
      "[40 10 20]\n"
     ]
    }
   ],
   "source": [
    "a = np.array([20,40,30,40,10,20])\n",
    "b = np.array_split(a,2)\n",
    "print(b)\n",
    "\n",
    "print(b[1])"
   ]
  },
  {
   "cell_type": "code",
   "execution_count": 85,
   "id": "1c4029e0-e3ef-4a05-b28a-7abaac3aa1c4",
   "metadata": {},
   "outputs": [
    {
     "name": "stdout",
     "output_type": "stream",
     "text": [
      "[array([20, 40]), array([30, 40]), array([10, 20])]\n",
      "[10 20]\n"
     ]
    }
   ],
   "source": [
    "a = np.array([20,40,30,40,10,20])\n",
    "b = np.array_split(a,3)\n",
    "print(b)\n",
    "\n",
    "print(b[2])"
   ]
  },
  {
   "cell_type": "code",
   "execution_count": 77,
   "id": "84994b79-72f1-4fa2-a25c-c59e3c28cf4e",
   "metadata": {},
   "outputs": [
    {
     "name": "stdout",
     "output_type": "stream",
     "text": [
      "[array([20, 40]), array([30, 40]), array([10]), array([20])]\n"
     ]
    }
   ],
   "source": [
    "a = np.array([20,40,30,40,10,20])\n",
    "b = np.array_split(a,4)\n",
    "print(b)"
   ]
  },
  {
   "cell_type": "code",
   "execution_count": 78,
   "id": "c65e0f33-8994-4b40-8536-f2bc52b87684",
   "metadata": {},
   "outputs": [
    {
     "name": "stdout",
     "output_type": "stream",
     "text": [
      "[array([20, 40]), array([30]), array([40]), array([10]), array([20])]\n"
     ]
    }
   ],
   "source": [
    "a = np.array([20,40,30,40,10,20])\n",
    "b = np.array_split(a,5)\n",
    "print(b)\n"
   ]
  },
  {
   "cell_type": "code",
   "execution_count": 79,
   "id": "607c1acd-6848-46c2-8613-ddb9f9344dff",
   "metadata": {},
   "outputs": [
    {
     "name": "stdout",
     "output_type": "stream",
     "text": [
      "[array([20]), array([40]), array([30]), array([40]), array([10]), array([20])]\n"
     ]
    }
   ],
   "source": [
    "a = np.array([20,40,30,40,10,20])\n",
    "b = np.array_split(a,6)\n",
    "print(b)"
   ]
  },
  {
   "cell_type": "code",
   "execution_count": 87,
   "id": "36c48b32-c3cb-4eb0-be22-c811100e6796",
   "metadata": {},
   "outputs": [
    {
     "name": "stdout",
     "output_type": "stream",
     "text": [
      "[array([[20, 40, 30]]), array([[40, 10, 20]])]\n"
     ]
    }
   ],
   "source": [
    "a = np.array([[20,40,30],[40,10,20]])\n",
    "b = np.array_split(a,2)\n",
    "print(b)"
   ]
  },
  {
   "cell_type": "code",
   "execution_count": 89,
   "id": "2f7d372a-9de3-4ce5-bf2a-300e0d03f46a",
   "metadata": {},
   "outputs": [
    {
     "name": "stdout",
     "output_type": "stream",
     "text": [
      "[array([[20, 40, 30]]), array([[40, 10, 20]]), array([], shape=(0, 3), dtype=int32)]\n"
     ]
    }
   ],
   "source": [
    "a = np.array([[20,40,30],[40,10,20]])\n",
    "b = np.array_split(a,3)\n",
    "print(b)"
   ]
  },
  {
   "cell_type": "markdown",
   "id": "457b85bc-d0a4-45ed-abd3-53dc763bdb4b",
   "metadata": {},
   "source": [
    "**ADDING OR REMOVING**"
   ]
  },
  {
   "cell_type": "code",
   "execution_count": 95,
   "id": "528560cb-8df8-4376-8a4d-2cbf4f798b5b",
   "metadata": {},
   "outputs": [
    {
     "name": "stdout",
     "output_type": "stream",
     "text": [
      "[20 40 60 80 90]\n"
     ]
    }
   ],
   "source": [
    "#Append\n",
    "a = np.array([20,40,60,80])\n",
    "print(np.append(a,90))       #Syntax - np.append(array,value)"
   ]
  },
  {
   "cell_type": "code",
   "execution_count": 92,
   "id": "60df0399-2936-4852-bd7c-ad3b11c50af8",
   "metadata": {},
   "outputs": [
    {
     "name": "stdout",
     "output_type": "stream",
     "text": [
      "[20 40 60 80 90]\n"
     ]
    }
   ],
   "source": [
    "a = np.array([[20,40],[60,80]])\n",
    "print(np.append(a,90))"
   ]
  },
  {
   "cell_type": "code",
   "execution_count": 93,
   "id": "9b26a7cc-4d25-479f-a26c-16e462b9fefc",
   "metadata": {},
   "outputs": [
    {
     "name": "stdout",
     "output_type": "stream",
     "text": [
      "[ 20  40  60  80  90 100]\n"
     ]
    }
   ],
   "source": [
    "a = np.array([20,40,60,80])\n",
    "print(np.append(a,[90,100]))"
   ]
  },
  {
   "cell_type": "code",
   "execution_count": 94,
   "id": "d6ba6202-40b9-417a-8a8c-d929b4696db9",
   "metadata": {},
   "outputs": [
    {
     "name": "stdout",
     "output_type": "stream",
     "text": [
      "[20 50 40 60 80]\n"
     ]
    }
   ],
   "source": [
    "#Insert\n",
    "a = np.array([20,40,60,80])\n",
    "print(np.insert(a,1,50))      #Syntax - np.insert(array,index,value)"
   ]
  },
  {
   "cell_type": "code",
   "execution_count": 96,
   "id": "df1b757a-3347-4f10-9310-c592cdde87be",
   "metadata": {},
   "outputs": [
    {
     "name": "stdout",
     "output_type": "stream",
     "text": [
      "[20 50 60 40 60 80]\n"
     ]
    }
   ],
   "source": [
    "a = np.array([20,40,60,80])\n",
    "print(np.insert(a,1,[50,60]))"
   ]
  },
  {
   "cell_type": "code",
   "execution_count": 98,
   "id": "5c3461fb-eeed-4e9d-ab8e-b921cf36d4ce",
   "metadata": {},
   "outputs": [
    {
     "name": "stdout",
     "output_type": "stream",
     "text": [
      "[20 50 60 40 60 80]\n"
     ]
    }
   ],
   "source": [
    "a = np.array([[20,40],[60,80]])\n",
    "print(np.insert(a,1,[50,60]))"
   ]
  },
  {
   "cell_type": "code",
   "execution_count": 99,
   "id": "a0137ecc-dcf0-4cbd-a30d-5ed708dad1aa",
   "metadata": {},
   "outputs": [
    {
     "name": "stdout",
     "output_type": "stream",
     "text": [
      "[[20 40]\n",
      " [50 60]\n",
      " [60 80]]\n"
     ]
    }
   ],
   "source": [
    "a = np.array([[20,40],[60,80]])\n",
    "print(np.insert(a,1,[50,60],axis = 0))"
   ]
  },
  {
   "cell_type": "code",
   "execution_count": 100,
   "id": "36b32426-d649-4799-98eb-441f2da141c5",
   "metadata": {},
   "outputs": [
    {
     "name": "stdout",
     "output_type": "stream",
     "text": [
      "[[20 50 40]\n",
      " [60 60 80]]\n"
     ]
    }
   ],
   "source": [
    "a = np.array([[20,40],[60,80]])\n",
    "print(np.insert(a,1,[50,60],axis = 1))"
   ]
  },
  {
   "cell_type": "code",
   "execution_count": 102,
   "id": "60628bc6-d737-4426-915e-c3bf22d8d02e",
   "metadata": {},
   "outputs": [
    {
     "name": "stdout",
     "output_type": "stream",
     "text": [
      "[[20 40]\n",
      " [50 50]\n",
      " [60 80]]\n"
     ]
    }
   ],
   "source": [
    "a = np.array([[20,40],[60,80]])\n",
    "print(np.insert(a,1,[50],axis = 0))"
   ]
  },
  {
   "cell_type": "code",
   "execution_count": 104,
   "id": "57a4ea13-3057-42a4-ae56-2245d7922c8a",
   "metadata": {},
   "outputs": [
    {
     "name": "stdout",
     "output_type": "stream",
     "text": [
      "[[20 40]\n",
      " [50 60]\n",
      " [60 80]\n",
      " [50 60]]\n"
     ]
    }
   ],
   "source": [
    "a = np.array([[20,40],[60,80]])\n",
    "print(np.insert(a,[1,2],[50,60],axis = 0))"
   ]
  },
  {
   "cell_type": "code",
   "execution_count": 105,
   "id": "8a16ed3f-b629-434e-b789-0ce54c0444df",
   "metadata": {},
   "outputs": [
    {
     "name": "stdout",
     "output_type": "stream",
     "text": [
      "[[20 40]\n",
      " [60 80]]\n"
     ]
    }
   ],
   "source": [
    "#DELETE\n",
    "\n",
    "print(a)"
   ]
  },
  {
   "cell_type": "code",
   "execution_count": 106,
   "id": "6eea68c2-9e0d-4560-a036-2c41a6adbe09",
   "metadata": {},
   "outputs": [
    {
     "name": "stdout",
     "output_type": "stream",
     "text": [
      "[20 60 80]\n"
     ]
    }
   ],
   "source": [
    "print(np.delete(a,1))"
   ]
  },
  {
   "cell_type": "code",
   "execution_count": 107,
   "id": "a7d465fb-26d9-4edb-a9f7-b8d7a517ea8d",
   "metadata": {},
   "outputs": [
    {
     "name": "stdout",
     "output_type": "stream",
     "text": [
      "[[20 40]]\n"
     ]
    }
   ],
   "source": [
    "print(np.delete(a,1,axis = 0))"
   ]
  },
  {
   "cell_type": "code",
   "execution_count": 108,
   "id": "3d32b54b-b09c-4d73-b7da-df776e5875c5",
   "metadata": {},
   "outputs": [
    {
     "name": "stdout",
     "output_type": "stream",
     "text": [
      "[[20]\n",
      " [60]]\n"
     ]
    }
   ],
   "source": [
    "print(np.delete(a,1,axis = 1))"
   ]
  },
  {
   "cell_type": "markdown",
   "id": "3fd1f804-7c52-4059-a236-cb9dac2c8ede",
   "metadata": {},
   "source": [
    "**SORTING**"
   ]
  },
  {
   "cell_type": "code",
   "execution_count": 111,
   "id": "4878b137-5e57-45b1-8fca-d308746d5d01",
   "metadata": {},
   "outputs": [
    {
     "name": "stdout",
     "output_type": "stream",
     "text": [
      "[ 4  7  8  9 12]\n"
     ]
    }
   ],
   "source": [
    "arr = np.array([7,8,4,12,9])\n",
    "\n",
    "print(np.sort(arr))"
   ]
  },
  {
   "cell_type": "code",
   "execution_count": 112,
   "id": "4fc2560e-78e0-4c9e-8ba9-29621f1bc7f6",
   "metadata": {},
   "outputs": [
    {
     "name": "stdout",
     "output_type": "stream",
     "text": [
      "[[ 4  7  8  9 12]\n",
      " [ 1  2  3  5  8]]\n"
     ]
    }
   ],
   "source": [
    "arr = np.array([[7,8,4,12,9],[2,8,5,1,3]])\n",
    "\n",
    "print(np.sort(arr))"
   ]
  },
  {
   "cell_type": "markdown",
   "id": "3faa94a0-ee41-48a8-b8f5-96cf1f248b99",
   "metadata": {},
   "source": [
    "**SEARCH**"
   ]
  },
  {
   "cell_type": "code",
   "execution_count": 114,
   "id": "a2f54da3-a97c-43c4-b3d2-7c42eff927a1",
   "metadata": {},
   "outputs": [
    {
     "name": "stdout",
     "output_type": "stream",
     "text": [
      "(array([1], dtype=int64),)\n"
     ]
    }
   ],
   "source": [
    "ar = np.array([3,4,1,7,8])\n",
    "s = np.where(ar==4)     #syntax - np.where(array===search value)\n",
    "\n",
    "print(s)"
   ]
  },
  {
   "cell_type": "code",
   "execution_count": 115,
   "id": "bc0d00ff-341a-4b84-8c05-dcd7e99d0154",
   "metadata": {},
   "outputs": [
    {
     "name": "stdout",
     "output_type": "stream",
     "text": [
      "(array([1, 4], dtype=int64),)\n"
     ]
    }
   ],
   "source": [
    "s = np.where(ar % 2 == 0)\n",
    "print(s)"
   ]
  },
  {
   "cell_type": "code",
   "execution_count": 120,
   "id": "2a48b686-af21-4b79-8d6f-dc55487b7ba1",
   "metadata": {},
   "outputs": [
    {
     "name": "stdout",
     "output_type": "stream",
     "text": [
      "1\n"
     ]
    }
   ],
   "source": [
    "ar1 = np.array([1,2,3,4,5,6])\n",
    "\n",
    "ss = np.searchsorted(ar1,2)       #ARRAY HAS TO BE SORTED ALREADY FOR THIS FUNCTION\n",
    "                                  #syntax - np.searchsorted(array,search value)\n",
    "print(ss)"
   ]
  },
  {
   "cell_type": "markdown",
   "id": "4ac5defd-e5b0-4501-b28d-d1ea193a081b",
   "metadata": {},
   "source": [
    "**FILTERING**"
   ]
  },
  {
   "cell_type": "code",
   "execution_count": 132,
   "id": "62249e22-afb8-4eb7-bbfc-510ba79b4f9c",
   "metadata": {},
   "outputs": [
    {
     "name": "stdout",
     "output_type": "stream",
     "text": [
      "[20 40]\n",
      "[20 40]\n"
     ]
    }
   ],
   "source": [
    "#Printing even numbers array\n",
    "ar = np.array([20,30,40,50])\n",
    "\n",
    "bl = [True,False,True,False]                         #First way\n",
    "\n",
    "fa = ar[bl]\n",
    "\n",
    "print(fa)\n",
    "\n",
    "\n",
    "\n",
    "\n",
    "ar = np.array([20,30,40,50])\n",
    "                                                                                                      \n",
    "fa = ar[[True,False,True,False]]                          #Second way\n",
    "\n",
    "print(fa)"
   ]
  },
  {
   "cell_type": "code",
   "execution_count": 126,
   "id": "cc3fdda1-e155-405c-bba4-b3ee6fcd12ca",
   "metadata": {},
   "outputs": [
    {
     "name": "stdout",
     "output_type": "stream",
     "text": [
      "[False False  True  True]\n"
     ]
    }
   ],
   "source": [
    "\n",
    "ar = np.array([2,3,4,5])\n",
    "\n",
    "b = ar>3\n",
    "\n",
    "print(b)"
   ]
  },
  {
   "cell_type": "code",
   "execution_count": 129,
   "id": "1d95cdea-22ad-494d-80f9-45cc095d99a1",
   "metadata": {},
   "outputs": [
    {
     "name": "stdout",
     "output_type": "stream",
     "text": [
      "[4 5]\n",
      "[4 5]\n"
     ]
    }
   ],
   "source": [
    "ar = np.array([2,3,4,5])\n",
    "\n",
    "b = ar>3\n",
    "\n",
    "fa = ar[b]            #First way\n",
    "print(fa)\n",
    "\n",
    "\n",
    "\n",
    "\n",
    "ar = np.array([2,3,4,5])\n",
    "                                      #Second way\n",
    "fa = ar[ar>3]\n",
    "print(fa)\n"
   ]
  },
  {
   "cell_type": "markdown",
   "id": "fbead395-2402-43a0-9734-d1001f3f41bc",
   "metadata": {},
   "source": [
    "**Aggregating functions in arrays**\n"
   ]
  },
  {
   "cell_type": "code",
   "execution_count": 140,
   "id": "efd75c82-1f9a-41a4-b87a-ba0d158b76d4",
   "metadata": {},
   "outputs": [
    {
     "name": "stdout",
     "output_type": "stream",
     "text": [
      "190\n",
      "70\n",
      "20\n",
      "4\n",
      "47.5\n",
      "[ 20  60 120 190]\n",
      "[     20     800   48000 3360000]\n"
     ]
    }
   ],
   "source": [
    "#1D ARRAY\n",
    "\n",
    "a = np.array([20,40,60,70])\n",
    "\n",
    "print(np.sum(a))\n",
    "print(np.max(a))\n",
    "print(np.min(a))\n",
    "print(np.size(a))\n",
    "print(np.mean(a))\n",
    "print(np.cumsum(a))              #cumulative sum\n",
    "print(np.cumprod(a))             #cumulative product"
   ]
  },
  {
   "cell_type": "code",
   "execution_count": 144,
   "id": "816699f3-d215-41c5-b8a7-4b0b4f3053fe",
   "metadata": {},
   "outputs": [
    {
     "name": "stdout",
     "output_type": "stream",
     "text": [
      "[100 150 199 200 250 130] [10 50 30 40 30 10]\n"
     ]
    }
   ],
   "source": [
    "#2D ARRAY\n",
    "\n",
    "a = [100,150,199,200,250,130]\n",
    "b = [10,50,30,40,30,10]\n",
    "\n",
    "price = np.array(a)\n",
    "quantity = np.array(b)\n",
    "\n",
    "print(price , quantity)    "
   ]
  },
  {
   "cell_type": "code",
   "execution_count": 149,
   "id": "f10871bb-f586-42cb-9f0d-22d668e611ba",
   "metadata": {},
   "outputs": [
    {
     "name": "stdout",
     "output_type": "stream",
     "text": [
      "[100 150 199 200 250 130] \n",
      " [10 50 30 40 30 10]\n"
     ]
    }
   ],
   "source": [
    "a = [100,150,199,200,250,130]\n",
    "b = [10,50,30,40,30,10]\n",
    "\n",
    "price = np.array(a)\n",
    "quantity = np.array(b)\n",
    "\n",
    "print(price , '\\n' ,quantity)      #\\n used for new line   "
   ]
  },
  {
   "cell_type": "code",
   "execution_count": 151,
   "id": "f090d78c-cd87-49aa-8449-c18f8379060e",
   "metadata": {},
   "outputs": [
    {
     "name": "stdout",
     "output_type": "stream",
     "text": [
      "[[ 100  150  199  200  250  130]\n",
      " [1000 7500 5970 8000 7500 1300]]\n"
     ]
    }
   ],
   "source": [
    "c = np.cumprod([price,quantity],axis = 0)\n",
    "\n",
    "print(c)"
   ]
  },
  {
   "cell_type": "code",
   "execution_count": 152,
   "id": "01247219-6f8b-40ab-9f91-93a9794b6cc9",
   "metadata": {},
   "outputs": [
    {
     "name": "stdout",
     "output_type": "stream",
     "text": [
      "[1000 7500 5970 8000 7500 1300]\n"
     ]
    }
   ],
   "source": [
    "print(c[1])"
   ]
  },
  {
   "cell_type": "code",
   "execution_count": 154,
   "id": "ab8a731e-4a30-45b1-b4fd-3bce83c90c39",
   "metadata": {},
   "outputs": [
    {
     "name": "stdout",
     "output_type": "stream",
     "text": [
      "31270\n"
     ]
    }
   ],
   "source": [
    "print(c[1].sum())"
   ]
  },
  {
   "cell_type": "markdown",
   "id": "dba8a8e3-6040-4410-834a-f237d1cdfdba",
   "metadata": {},
   "source": [
    "**Statistical Functions**"
   ]
  },
  {
   "cell_type": "code",
   "execution_count": 162,
   "id": "e6e2930a-a969-4949-8a96-d52e5369e59e",
   "metadata": {},
   "outputs": [
    {
     "name": "stdout",
     "output_type": "stream",
     "text": [
      "202.25\n",
      "194.0\n",
      "200\n",
      "55.68157235567257\n",
      "3100.4375\n"
     ]
    }
   ],
   "source": [
    "baked_food = [200,300,150,130,200,280,170,188]\n",
    "\n",
    "a = np.array(baked_food)\n",
    "\n",
    "print(np.mean(a))\n",
    "print(np.median(a))      #central value after sorting\n",
    "\n",
    "import statistics as stats\n",
    "\n",
    "print(stats.mode(a))    #NumPy cannot calculate mode \n",
    "print(np.std(a))         \n",
    "print(np.var(a))      #square of std\n"
   ]
  },
  {
   "cell_type": "code",
   "execution_count": 163,
   "id": "15526e0f-8a06-4350-b05f-41cffca60e8d",
   "metadata": {},
   "outputs": [
    {
     "name": "stdout",
     "output_type": "stream",
     "text": [
      "[[1.         0.99015454]\n",
      " [0.99015454 1.        ]]\n"
     ]
    }
   ],
   "source": [
    "#Positive Correlation : positive value(+1) shows proportional\n",
    "\n",
    "tobacco_consumption = [30,50,10,30,50,40]\n",
    "deaths = [100,120,70,100,120,112]\n",
    "\n",
    "relation = np.corrcoef([tobacco_consumption,deaths])\n",
    "print(relation)\n"
   ]
  },
  {
   "cell_type": "code",
   "execution_count": 166,
   "id": "1dc6846e-15d4-466f-a558-9c4e5321de90",
   "metadata": {},
   "outputs": [
    {
     "name": "stdout",
     "output_type": "stream",
     "text": [
      "[[ 1. -1.]\n",
      " [-1.  1.]]\n"
     ]
    }
   ],
   "source": [
    "#Negative Correlation : negative value(-1) shows inversly proportional\n",
    "\n",
    "price = [100,200,300,400,500]\n",
    "sales = [5,4,3,2,1]\n",
    "\n",
    "relation = np.corrcoef(price,sales)\n",
    "print(relation)"
   ]
  },
  {
   "cell_type": "markdown",
   "id": "6634ccc7-fd3e-48e5-bb17-33aedca4aaab",
   "metadata": {},
   "source": [
    "**Read and Save** "
   ]
  },
  {
   "cell_type": "code",
   "execution_count": null,
   "id": "2da25b4e-9e2d-45f6-a437-5e6b97d3fae0",
   "metadata": {},
   "outputs": [],
   "source": []
  }
 ],
 "metadata": {
  "kernelspec": {
   "display_name": "Python 3 (ipykernel)",
   "language": "python",
   "name": "python3"
  },
  "language_info": {
   "codemirror_mode": {
    "name": "ipython",
    "version": 3
   },
   "file_extension": ".py",
   "mimetype": "text/x-python",
   "name": "python",
   "nbconvert_exporter": "python",
   "pygments_lexer": "ipython3",
   "version": "3.12.0"
  }
 },
 "nbformat": 4,
 "nbformat_minor": 5
}
