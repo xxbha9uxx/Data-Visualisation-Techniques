{
 "cells": [
  {
   "cell_type": "markdown",
   "id": "e7d32220-ab69-44bb-8be8-65e279f36657",
   "metadata": {},
   "source": [
    "# randint() function"
   ]
  },
  {
   "cell_type": "code",
   "execution_count": 2,
   "id": "dc0ba7aa-3768-400a-9035-6063bc925853",
   "metadata": {},
   "outputs": [],
   "source": [
    "import numpy as np"
   ]
  },
  {
   "cell_type": "code",
   "execution_count": 20,
   "id": "8c92a628-ba5b-4e75-8575-d99b835334cd",
   "metadata": {},
   "outputs": [
    {
     "data": {
      "text/plain": [
       "(10,)"
      ]
     },
     "execution_count": 20,
     "metadata": {},
     "output_type": "execute_result"
    }
   ],
   "source": [
    "x = np.random.randint(1,100,10)          # generate 10 random numbers between 1 and 100\n",
    "x\n",
    "x.shape"
   ]
  },
  {
   "cell_type": "code",
   "execution_count": 5,
   "id": "9a50c2f4-c1b2-4a78-9124-2bbf93fe6f3f",
   "metadata": {},
   "outputs": [
    {
     "data": {
      "text/plain": [
       "array([ 1, 91, 10, 63, 11, 79, 24,  3, 48, 84])"
      ]
     },
     "execution_count": 5,
     "metadata": {},
     "output_type": "execute_result"
    }
   ],
   "source": [
    "y = np.random.randint(1,100,10)           #everytime the resulting random numbers will be different using randint()\n",
    "y"
   ]
  },
  {
   "cell_type": "markdown",
   "id": "82eebb79-e6ce-4b5e-a459-a422140f8798",
   "metadata": {},
   "source": [
    "# seed() function"
   ]
  },
  {
   "cell_type": "code",
   "execution_count": 6,
   "id": "0947345b-dfc1-4299-9102-f93062ac3b25",
   "metadata": {},
   "outputs": [],
   "source": [
    "import numpy as np"
   ]
  },
  {
   "cell_type": "markdown",
   "id": "90420c6c-7b44-414b-92ec-9a10ea13952b",
   "metadata": {},
   "source": [
    "**Value under seed = 2**"
   ]
  },
  {
   "cell_type": "code",
   "execution_count": 11,
   "id": "0031a9b5-a48f-438c-bcac-ccc8a79abf72",
   "metadata": {},
   "outputs": [
    {
     "data": {
      "text/plain": [
       "array([42, 17, 47, 10, 24])"
      ]
     },
     "execution_count": 11,
     "metadata": {},
     "output_type": "execute_result"
    }
   ],
   "source": [
    "np.random.seed(2)\n",
    "x1 = np.random.randint(2,50,5)         # generate 5 random numbers between 2 and 50\n",
    "x1                                     # using seed function , the resulting random numbers will same \n",
    "                                       # when having same seed value"
   ]
  },
  {
   "cell_type": "code",
   "execution_count": 12,
   "id": "bef018d2-2270-46bc-99f2-e3c99ffa7852",
   "metadata": {},
   "outputs": [
    {
     "data": {
      "text/plain": [
       "array([42, 17, 47, 10, 24])"
      ]
     },
     "execution_count": 12,
     "metadata": {},
     "output_type": "execute_result"
    }
   ],
   "source": [
    "np.random.seed(2)\n",
    "x1 = np.random.randint(2,50,5)\n",
    "x1"
   ]
  },
  {
   "cell_type": "code",
   "execution_count": 13,
   "id": "29f5a9b3-3e45-4519-946c-96138ed66c0f",
   "metadata": {},
   "outputs": [
    {
     "data": {
      "text/plain": [
       "array([42, 17, 47, 10, 24])"
      ]
     },
     "execution_count": 13,
     "metadata": {},
     "output_type": "execute_result"
    }
   ],
   "source": [
    "np.random.seed(2)\n",
    "x1 = np.random.randint(2,50,5)\n",
    "x1"
   ]
  },
  {
   "cell_type": "markdown",
   "id": "b37178e0-5677-4f9d-bc3c-d66b33a56f94",
   "metadata": {},
   "source": [
    "**Value under seed = 5**"
   ]
  },
  {
   "cell_type": "code",
   "execution_count": 19,
   "id": "3491a84b-d015-4aa8-902b-15e2091b4492",
   "metadata": {},
   "outputs": [
    {
     "data": {
      "text/plain": [
       "(5,)"
      ]
     },
     "execution_count": 19,
     "metadata": {},
     "output_type": "execute_result"
    }
   ],
   "source": [
    "np.random.seed(5)\n",
    "x2 = np.random.randint(2,50,5)\n",
    "x2\n",
    "x2.shape"
   ]
  },
  {
   "cell_type": "code",
   "execution_count": 16,
   "id": "4a8c88bc-ac30-4ebb-9acd-a50b58ef8984",
   "metadata": {},
   "outputs": [
    {
     "data": {
      "text/plain": [
       "array([37, 16, 49, 40, 18])"
      ]
     },
     "execution_count": 16,
     "metadata": {},
     "output_type": "execute_result"
    }
   ],
   "source": [
    "np.random.seed(5)\n",
    "x2 = np.random.randint(2,50,5)\n",
    "x2"
   ]
  },
  {
   "cell_type": "code",
   "execution_count": 17,
   "id": "4c793327-614d-4563-a1cd-82e069be72dd",
   "metadata": {},
   "outputs": [
    {
     "data": {
      "text/plain": [
       "array([37, 16, 49, 40, 18])"
      ]
     },
     "execution_count": 17,
     "metadata": {},
     "output_type": "execute_result"
    }
   ],
   "source": [
    "np.random.seed(5)\n",
    "x2 = np.random.randint(2,50,5)\n",
    "x2"
   ]
  },
  {
   "cell_type": "markdown",
   "id": "15c0fd02-b7a6-4fd7-a9f3-ea6d0d934fdd",
   "metadata": {},
   "source": [
    "# meshgrid()"
   ]
  },
  {
   "cell_type": "code",
   "execution_count": 2,
   "id": "0ede8cac-e350-4377-aaec-2e20e9b8b629",
   "metadata": {},
   "outputs": [],
   "source": [
    "import numpy as np"
   ]
  },
  {
   "cell_type": "code",
   "execution_count": 3,
   "id": "1e94bd42-c557-45dd-bbd6-72a2ed8e06bc",
   "metadata": {},
   "outputs": [],
   "source": [
    "x = np.linspace(-4,4,9)\n",
    "y = np.linspace(-5,5,11)"
   ]
  },
  {
   "cell_type": "code",
   "execution_count": 8,
   "id": "4fcd42fd-3743-4f13-9b71-7c9baa67df86",
   "metadata": {},
   "outputs": [
    {
     "data": {
      "text/plain": [
       "array([-4., -3., -2., -1.,  0.,  1.,  2.,  3.,  4.])"
      ]
     },
     "execution_count": 8,
     "metadata": {},
     "output_type": "execute_result"
    }
   ],
   "source": [
    "x"
   ]
  },
  {
   "cell_type": "code",
   "execution_count": 9,
   "id": "d9e0b40c-0475-4fc5-ac78-49da0202da70",
   "metadata": {},
   "outputs": [
    {
     "data": {
      "text/plain": [
       "array([-5., -4., -3., -2., -1.,  0.,  1.,  2.,  3.,  4.,  5.])"
      ]
     },
     "execution_count": 9,
     "metadata": {},
     "output_type": "execute_result"
    }
   ],
   "source": [
    "y"
   ]
  },
  {
   "cell_type": "code",
   "execution_count": 10,
   "id": "c19c7920-8a5a-4a35-b285-4f7574037f53",
   "metadata": {},
   "outputs": [],
   "source": [
    "X,Y = np.meshgrid(x,y)"
   ]
  },
  {
   "cell_type": "code",
   "execution_count": 11,
   "id": "0bfb29f7-7503-423a-a873-4a419760b6ec",
   "metadata": {},
   "outputs": [
    {
     "data": {
      "text/plain": [
       "(array([[-4., -3., -2., -1.,  0.,  1.,  2.,  3.,  4.],\n",
       "        [-4., -3., -2., -1.,  0.,  1.,  2.,  3.,  4.],\n",
       "        [-4., -3., -2., -1.,  0.,  1.,  2.,  3.,  4.],\n",
       "        [-4., -3., -2., -1.,  0.,  1.,  2.,  3.,  4.],\n",
       "        [-4., -3., -2., -1.,  0.,  1.,  2.,  3.,  4.],\n",
       "        [-4., -3., -2., -1.,  0.,  1.,  2.,  3.,  4.],\n",
       "        [-4., -3., -2., -1.,  0.,  1.,  2.,  3.,  4.],\n",
       "        [-4., -3., -2., -1.,  0.,  1.,  2.,  3.,  4.],\n",
       "        [-4., -3., -2., -1.,  0.,  1.,  2.,  3.,  4.],\n",
       "        [-4., -3., -2., -1.,  0.,  1.,  2.,  3.,  4.],\n",
       "        [-4., -3., -2., -1.,  0.,  1.,  2.,  3.,  4.]]),\n",
       " array([[-5., -5., -5., -5., -5., -5., -5., -5., -5.],\n",
       "        [-4., -4., -4., -4., -4., -4., -4., -4., -4.],\n",
       "        [-3., -3., -3., -3., -3., -3., -3., -3., -3.],\n",
       "        [-2., -2., -2., -2., -2., -2., -2., -2., -2.],\n",
       "        [-1., -1., -1., -1., -1., -1., -1., -1., -1.],\n",
       "        [ 0.,  0.,  0.,  0.,  0.,  0.,  0.,  0.,  0.],\n",
       "        [ 1.,  1.,  1.,  1.,  1.,  1.,  1.,  1.,  1.],\n",
       "        [ 2.,  2.,  2.,  2.,  2.,  2.,  2.,  2.,  2.],\n",
       "        [ 3.,  3.,  3.,  3.,  3.,  3.,  3.,  3.,  3.],\n",
       "        [ 4.,  4.,  4.,  4.,  4.,  4.,  4.,  4.,  4.],\n",
       "        [ 5.,  5.,  5.,  5.,  5.,  5.,  5.,  5.,  5.]]))"
      ]
     },
     "execution_count": 11,
     "metadata": {},
     "output_type": "execute_result"
    }
   ],
   "source": [
    "X,Y"
   ]
  },
  {
   "cell_type": "markdown",
   "id": "626c2f7a-23b7-4878-a933-2e77fd8cf747",
   "metadata": {},
   "source": [
    "# random.rand()\n",
    "\n",
    "\n",
    "**It generates an array of random numbers sampled from a uniform distribution over the interval [0, 1)**\n",
    "\n",
    "**This means each number in the array is a random float between 0 (inclusive) and 1 (exclusive).**\n",
    "\n",
    "**It generates random numbers uniformly distributed between 0 and 1**\n",
    "\r",
    "**\n",
    "The shape of the array is specified by the arguments passed to np.random.rand()**."
   ]
  },
  {
   "cell_type": "markdown",
   "id": "5f0d59ef-71f8-4891-8018-ee8164c8aa35",
   "metadata": {},
   "source": [
    "**1. Generating a Single Random Number -\n",
    "To generate a single random number between 0 and 1:**"
   ]
  },
  {
   "cell_type": "code",
   "execution_count": 1,
   "id": "cf59a503-cd80-4fc8-8959-23c3f380608a",
   "metadata": {},
   "outputs": [
    {
     "name": "stdout",
     "output_type": "stream",
     "text": [
      "0.3909188376968248\n"
     ]
    }
   ],
   "source": [
    "import numpy as np\n",
    "\n",
    "single_random_number = np.random.rand()\n",
    "print(single_random_number)"
   ]
  },
  {
   "cell_type": "markdown",
   "id": "48a41ed2-b495-4a1c-931d-40e2cf44bf33",
   "metadata": {},
   "source": [
    "**2. Generating a 1D Array of Random Numbers-\n",
    "To generate a 1D array with 5 random numbers:**"
   ]
  },
  {
   "cell_type": "code",
   "execution_count": 3,
   "id": "223dd0d1-3c96-4dee-b6ba-c0b6b7dee49d",
   "metadata": {},
   "outputs": [
    {
     "name": "stdout",
     "output_type": "stream",
     "text": [
      "[0.59119152 0.66352722 0.62610905 0.4257638  0.36655744]\n"
     ]
    }
   ],
   "source": [
    "import numpy as np\n",
    "\n",
    "random_array_1d = np.random.rand(5)\n",
    "print(random_array_1d)"
   ]
  },
  {
   "cell_type": "markdown",
   "id": "a4940031-85aa-4cc9-ba96-91f2d8f6dab1",
   "metadata": {},
   "source": [
    "**3. Generating a 2D Array of Random Numbers-\n",
    "To generate a 2D array with shape (3, 4):**"
   ]
  },
  {
   "cell_type": "code",
   "execution_count": 5,
   "id": "1e52f55f-c2ef-411f-90c1-e7a242352a09",
   "metadata": {},
   "outputs": [
    {
     "name": "stdout",
     "output_type": "stream",
     "text": [
      "[[0.56479671 0.87006654 0.94299859 0.73056413]\n",
      " [0.02655438 0.2731245  0.88992365 0.72578962]\n",
      " [0.0665637  0.02995157 0.99433199 0.12971425]]\n"
     ]
    }
   ],
   "source": [
    "import numpy as np\n",
    "\n",
    "random_array_2d = np.random.rand(3, 4)\n",
    "print(random_array_2d)"
   ]
  },
  {
   "cell_type": "markdown",
   "id": "e5b85782-7920-4f62-a6c9-3b2e2265d8f0",
   "metadata": {},
   "source": [
    "**4. Generating Higher-Dimensional Arrays-\n",
    "To generate a 3D array with shape (2, 3, 4):**"
   ]
  },
  {
   "cell_type": "markdown",
   "id": "2104ab25-274e-436e-a542-e255c9f09f9d",
   "metadata": {},
   "source": [
    "**The resulting array will have a shape of (2, 3, 4), meaning:\n",
    "\n",
    "There are 2 matrices (or layers) stacked on top of each other.\n",
    "Each matrix has 3 rows.\n",
    "Each row has 4 columns.**"
   ]
  },
  {
   "cell_type": "code",
   "execution_count": 11,
   "id": "3f141f15-0a74-44b2-a852-8a73b706dba8",
   "metadata": {},
   "outputs": [
    {
     "name": "stdout",
     "output_type": "stream",
     "text": [
      "[[[0.00903047 0.12419487 0.54570184 0.51501902]\n",
      "  [0.98274732 0.45445174 0.18245824 0.05139012]\n",
      "  [0.27836917 0.63782943 0.73529143 0.02506433]]\n",
      "\n",
      " [[0.61135206 0.53912083 0.24598083 0.87219137]\n",
      "  [0.48846966 0.79334163 0.90627514 0.71419067]\n",
      "  [0.6410382  0.59114365 0.43807846 0.78900349]]]\n"
     ]
    }
   ],
   "source": [
    "import numpy as np\n",
    "\n",
    "random_array_3d = np.random.rand(2, 3, 4)\n",
    "print(random_array_3d)"
   ]
  }
 ],
 "metadata": {
  "kernelspec": {
   "display_name": "Python 3 (ipykernel)",
   "language": "python",
   "name": "python3"
  },
  "language_info": {
   "codemirror_mode": {
    "name": "ipython",
    "version": 3
   },
   "file_extension": ".py",
   "mimetype": "text/x-python",
   "name": "python",
   "nbconvert_exporter": "python",
   "pygments_lexer": "ipython3",
   "version": "3.12.0"
  }
 },
 "nbformat": 4,
 "nbformat_minor": 5
}
